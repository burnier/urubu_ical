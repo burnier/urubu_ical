{
 "cells": [
  {
   "cell_type": "code",
   "execution_count": 1,
   "metadata": {},
   "outputs": [],
   "source": [
    "from bs4 import BeautifulSoup\n",
    "import pandas as pd\n",
    "import requests\n",
    "import datetime as dt"
   ]
  },
  {
   "cell_type": "code",
   "execution_count": 2,
   "metadata": {},
   "outputs": [],
   "source": [
    "#read page with Beatiful Soup\n",
    "headers = {'User-Agent': \n",
    "           'Mozilla/5.0 (X11; Linux x86_64) AppleWebKit/537.36 (KHTML, like Gecko) Chrome/47.0.2526.106 Safari/537.36'}\n",
    "\n",
    "page = \"https://www.worldfootball.net/teams/flamengo-rj/2020/3/\"\n",
    "pageTree = requests.get(page, headers=headers)\n",
    "pageSoup = BeautifulSoup(pageTree.content, 'html.parser')"
   ]
  },
  {
   "cell_type": "code",
   "execution_count": 3,
   "metadata": {},
   "outputs": [],
   "source": [
    "#find games from 2020\n",
    "a_in_2020 = pageSoup.find_all(\"a\", text=lambda t: t and '/2020' in t)"
   ]
  },
  {
   "cell_type": "code",
   "execution_count": 4,
   "metadata": {},
   "outputs": [],
   "source": [
    "#extract all relevant info based on games from 2020\n",
    "one_round = []\n",
    "all_rounds = []\n",
    "for a in a_in_2020:\n",
    "    for td in a.parent.parent.find_all(\"td\"):\n",
    "        temp_str = td.text.rstrip().replace('\\n','').replace('\\t','').replace('\\r','')\n",
    "        one_round.append(temp_str)\n",
    "    all_rounds.append(one_round)\n",
    "    one_round = []"
   ]
  },
  {
   "cell_type": "code",
   "execution_count": 5,
   "metadata": {},
   "outputs": [],
   "source": [
    "#insert the values in a new dataframe object\n",
    "column_names = ['Competition','Date','Time','Venue','Temp1','Opponent','Result','Temp2']\n",
    "df_rounds = pd.DataFrame(all_rounds, columns=column_names)"
   ]
  },
  {
   "cell_type": "code",
   "execution_count": 6,
   "metadata": {},
   "outputs": [],
   "source": [
    "#add dummy starting times for non-existing ones\n",
    "times_bool = df_rounds['Time'] == ''\n",
    "df_rounds.loc[times_bool,'Time'] = '20:00'"
   ]
  },
  {
   "cell_type": "code",
   "execution_count": 7,
   "metadata": {},
   "outputs": [],
   "source": [
    "def convert_date_time(date, time):\n",
    "    #merge two columns in one\n",
    "    date_converted = dt.datetime.strptime(date + ' ' + time, '%d/%m/%Y %H:%M')\n",
    "    #adjust start_time for CET & end_time = start_time + 2\n",
    "    start_time = date_converted #+ dt.timedelta(hours=1)\n",
    "    end_time = date_converted + dt.timedelta(hours=2)\n",
    "    #Required format for iCal event\n",
    "    #start_time_ical = dt.datetime.strftime(start_time, \"%Y%m%dT%H%M%S\")\n",
    "    #end_time_ical = dt.datetime.strftime(end_time, \"%Y%m%dT%H%M%S\")\n",
    "    return start_time, end_time\n",
    "\n",
    "def set_home_away(venue, opponent):\n",
    "    if venue == 'A':\n",
    "        return opponent + ' x FLAMENGO'\n",
    "    else:\n",
    "        return 'FLAMENGO x ' + opponent"
   ]
  },
  {
   "cell_type": "code",
   "execution_count": 8,
   "metadata": {},
   "outputs": [],
   "source": [
    "#create StartTime & EndTime columns from Date & Time\n",
    "df_rounds[['StartTime', 'EndTime']] = df_rounds.apply(\n",
    "    lambda row: pd.Series(convert_date_time(row['Date'], row['Time'])), axis=1)"
   ]
  },
  {
   "cell_type": "code",
   "execution_count": 9,
   "metadata": {},
   "outputs": [],
   "source": [
    "#create Summary depending on H or A match\n",
    "df_rounds['Summary'] = df_rounds.apply(lambda row: set_home_away(row['Venue'], row['Opponent']), axis=1)"
   ]
  },
  {
   "cell_type": "code",
   "execution_count": 10,
   "metadata": {},
   "outputs": [],
   "source": [
    "#drop unecessary columns\n",
    "df_rounds = df_rounds.drop(['Competition','Date','Time','Venue','Temp1','Opponent','Temp2'], axis=1)"
   ]
  },
  {
   "cell_type": "code",
   "execution_count": 11,
   "metadata": {},
   "outputs": [],
   "source": [
    "from icalendar import Calendar, Event\n",
    "import datetime"
   ]
  },
  {
   "cell_type": "code",
   "execution_count": 12,
   "metadata": {},
   "outputs": [],
   "source": [
    "cal = Calendar()\n",
    "\n",
    "cal.add('prodid', '-//My calendar product//mxm.dk//')\n",
    "cal.add('version', '2.0')"
   ]
  },
  {
   "cell_type": "code",
   "execution_count": 13,
   "metadata": {},
   "outputs": [],
   "source": [
    "for i in df_rounds.index:\n",
    "    event = Event()\n",
    "    event.add('summary', df_rounds['Summary'][i])\n",
    "    event.add('location', df_rounds['Result'][i])\n",
    "    event.add('dtstart', df_rounds['StartTime'][i])\n",
    "    event.add('dtend', df_rounds['EndTime'][i])\n",
    "    # write evento to calendar element\n",
    "    cal.add_component(event)"
   ]
  },
  {
   "cell_type": "code",
   "execution_count": 14,
   "metadata": {},
   "outputs": [],
   "source": [
    "f = open('ics.html', 'wb')\n",
    "f.write(cal.to_ical())\n",
    "f.close()"
   ]
  },
  {
   "cell_type": "code",
   "execution_count": 15,
   "metadata": {},
   "outputs": [],
   "source": [
    "#Flask\n",
    "#from flask import Flask\n",
    "#app = Flask(__name__)\n",
    "#@app.route('/')\n",
    "#def index():\n",
    "#    return cal.to_ical()\n",
    "#if __name__ == '__main__':\n",
    "#    app.run()"
   ]
  }
 ],
 "metadata": {
  "kernelspec": {
   "display_name": "Python 3",
   "language": "python",
   "name": "python3"
  },
  "language_info": {
   "codemirror_mode": {
    "name": "ipython",
    "version": 3
   },
   "file_extension": ".py",
   "mimetype": "text/x-python",
   "name": "python",
   "nbconvert_exporter": "python",
   "pygments_lexer": "ipython3",
   "version": "3.6.9"
  }
 },
 "nbformat": 4,
 "nbformat_minor": 2
}
