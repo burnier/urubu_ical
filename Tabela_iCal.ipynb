{
 "cells": [
  {
   "cell_type": "markdown",
   "metadata": {},
   "source": [
    "# To Dos\n",
    "* ESPN Website not showing - if persists use the worldfootball.com website instead\n",
    "\n",
    "* Using the English Version of the website the new column in the DF can be created by using following statement: dt_format = datetime.datetime.strptime(date + ' ' + time, '%a, %b %d %I:%M %p'); Needs to set year to 2020\n",
    "\n",
    "* [Last Step] Implement in PytonEverywhere"
   ]
  },
  {
   "cell_type": "markdown",
   "metadata": {},
   "source": [
    "# Tests - Web Scrap"
   ]
  },
  {
   "cell_type": "code",
   "execution_count": 14,
   "metadata": {},
   "outputs": [],
   "source": [
    "import requests\n",
    "from bs4 import BeautifulSoup\n",
    "import pandas as pd\n",
    "import numpy as np"
   ]
  },
  {
   "cell_type": "code",
   "execution_count": 15,
   "metadata": {},
   "outputs": [],
   "source": [
    "proxies = {\n",
    " \"http\": \"http://lanbclb.t-mobile.at:8080\",\n",
    " \"https\": \"http://lanbclb.t-mobile.at:8080\",\n",
    "}"
   ]
  },
  {
   "cell_type": "code",
   "execution_count": 16,
   "metadata": {},
   "outputs": [],
   "source": [
    "headers = {'User-Agent': \n",
    "           'Mozilla/5.0 (X11; Linux x86_64) AppleWebKit/537.36 (KHTML, like Gecko) Chrome/47.0.2526.106 Safari/537.36'}\n",
    "\n",
    "page = \"https://www.espn.com/soccer/team/fixtures/_/id/819/flamengo\"\n",
    "# alternative website\n",
    "#page = \"https://www.worldfootball.net/teams/flamengo-rj/2020/3/\"\n",
    "#pageTree = requests.get(page, headers=headers, proxies=proxies)\n",
    "pageTree = requests.get(page, proxies=proxies)\n",
    "pageSoup = BeautifulSoup(pageTree.content, 'html.parser')"
   ]
  },
  {
   "cell_type": "code",
   "execution_count": 17,
   "metadata": {},
   "outputs": [
    {
     "data": {
      "text/plain": [
       "<Response [200]>"
      ]
     },
     "execution_count": 17,
     "metadata": {},
     "output_type": "execute_result"
    }
   ],
   "source": [
    "pageTree"
   ]
  },
  {
   "cell_type": "code",
   "execution_count": 18,
   "metadata": {},
   "outputs": [],
   "source": [
    "#access table-header of pageSoup\n",
    "full_table =  pageSoup.find_all(\"table\") "
   ]
  },
  {
   "cell_type": "code",
   "execution_count": 19,
   "metadata": {},
   "outputs": [
    {
     "data": {
      "text/plain": [
       "[<table class=\"Table\" style=\"border-collapse:collapse;border-spacing:0\"><colgroup class=\"Table__Colgroup\"><col class=\"Table__Column\"/><col class=\"Table__Column\"/><col class=\"Table__Column\"/><col class=\"Table__Column\"/><col class=\"Table__Column\"/><col class=\"Table__Column\"/><col class=\"Table__Column\"/><col class=\"Table__Column\"/></colgroup><thead class=\"Table__THEAD\"><tr class=\"Table__TR Table__even\"><th class=\"Table__TH\" title=\"\">DATE</th><th class=\"Table__TH\" colspan=\"3\" title=\"\">MATCH</th><th class=\"Table__TH\" title=\"\">TIME</th><th class=\"Table__TH\" title=\"\">COMPETITION</th><th class=\"Table__TH\" title=\"\">TV</th></tr></thead><tbody class=\"Table__TBODY\"><tr class=\"Table__TR Table__TR--sm Table__even\" data-idx=\"0\"><td class=\"Table__TD\"><div class=\"matchTeams\">Sat, Oct 10</div></td><td class=\"Table__TD\"><div class=\"local flex items-center\"><a class=\"AnchorLink Table__Team\" href=\"/soccer/team/_/id/3454/vasco-da-gama\" tabindex=\"0\">Vasco da Gama</a></div></td><td class=\"Table__TD\"><span class=\"Table__Team score\"><a class=\"AnchorLink\" href=\"/soccer/team/_/id/3454/vasco-da-gama\" tabindex=\"0\"><img alt=\"\" class=\"Image Logo Logo__sm\" data-mptype=\"image\" src=\"data:image/gif;base64,R0lGODlhAQABAIAAAAAAAP///yH5BAEAAAAALAAAAAABAAEAAAIBRAA7\"/></a><a class=\"AnchorLink\" href=\"/soccer/match/_/gameId/569845\" tabindex=\"0\">v</a><a class=\"AnchorLink\" href=\"/soccer/team/_/id/819/flamengo\" tabindex=\"0\"><img alt=\"\" class=\"Image Logo Logo__sm\" data-mptype=\"image\" src=\"data:image/gif;base64,R0lGODlhAQABAIAAAAAAAP///yH5BAEAAAAALAAAAAABAAEAAAIBRAA7\"/></a></span></td><td class=\"Table__TD\"><div class=\"away flex items-center\"><a class=\"AnchorLink Table__Team\" href=\"/soccer/team/_/id/819/flamengo\" tabindex=\"0\">Flamengo</a></div></td><td class=\"Table__TD\"><a class=\"AnchorLink\" href=\"/soccer/match/_/gameId/569845\" tabindex=\"0\">4:00 PM</a></td><td class=\"Table__TD\"><span>Brazilian Serie A</span></td><td class=\"Table__TD\"></td><td class=\"Table__TD\"></td></tr><tr class=\"Table__TR Table__TR--sm Table__even\" data-idx=\"1\"><td class=\"Table__TD\"><div class=\"matchTeams\">Tue, Oct 13</div></td><td class=\"Table__TD\"><div class=\"local flex items-center\"><a class=\"AnchorLink Table__Team\" href=\"/soccer/team/_/id/819/flamengo\" tabindex=\"0\">Flamengo</a></div></td><td class=\"Table__TD\"><span class=\"Table__Team score\"><a class=\"AnchorLink\" href=\"/soccer/team/_/id/819/flamengo\" tabindex=\"0\"><img alt=\"\" class=\"Image Logo Logo__sm\" data-mptype=\"image\" src=\"data:image/gif;base64,R0lGODlhAQABAIAAAAAAAP///yH5BAEAAAAALAAAAAABAAEAAAIBRAA7\"/></a><a class=\"AnchorLink\" href=\"/soccer/match/_/gameId/569885\" tabindex=\"0\">v</a><a class=\"AnchorLink\" href=\"/soccer/team/_/id/3395/goias\" tabindex=\"0\"><img alt=\"\" class=\"Image Logo Logo__sm\" data-mptype=\"image\" src=\"data:image/gif;base64,R0lGODlhAQABAIAAAAAAAP///yH5BAEAAAAALAAAAAABAAEAAAIBRAA7\"/></a></span></td><td class=\"Table__TD\"><div class=\"away flex items-center\"><a class=\"AnchorLink Table__Team\" href=\"/soccer/team/_/id/3395/goias\" tabindex=\"0\">Goiás</a></div></td><td class=\"Table__TD\"><a class=\"AnchorLink\" href=\"/soccer/match/_/gameId/569885\" tabindex=\"0\">5:00 PM</a></td><td class=\"Table__TD\"><span>Brazilian Serie A</span></td><td class=\"Table__TD\"></td><td class=\"Table__TD\"></td></tr><tr class=\"Table__TR Table__TR--sm Table__even\" data-idx=\"2\"><td class=\"Table__TD\"><div class=\"matchTeams\">Thu, Oct 15</div></td><td class=\"Table__TD\"><div class=\"local flex items-center\"><a class=\"AnchorLink Table__Team\" href=\"/soccer/team/_/id/819/flamengo\" tabindex=\"0\">Flamengo</a></div></td><td class=\"Table__TD\"><span class=\"Table__Team score\"><a class=\"AnchorLink\" href=\"/soccer/team/_/id/819/flamengo\" tabindex=\"0\"><img alt=\"\" class=\"Image Logo Logo__sm\" data-mptype=\"image\" src=\"data:image/gif;base64,R0lGODlhAQABAIAAAAAAAP///yH5BAEAAAAALAAAAAABAAEAAAIBRAA7\"/></a><a class=\"AnchorLink\" href=\"/soccer/match/_/gameId/569833\" tabindex=\"0\">v</a><a class=\"AnchorLink\" href=\"/soccer/team/_/id/6079/red-bull-bragantino\" tabindex=\"0\"><img alt=\"\" class=\"Image Logo Logo__sm\" data-mptype=\"image\" src=\"data:image/gif;base64,R0lGODlhAQABAIAAAAAAAP///yH5BAEAAAAALAAAAAABAAEAAAIBRAA7\"/></a></span></td><td class=\"Table__TD\"><div class=\"away flex items-center\"><a class=\"AnchorLink Table__Team\" href=\"/soccer/team/_/id/6079/red-bull-bragantino\" tabindex=\"0\">Red Bull Bragantino</a></div></td><td class=\"Table__TD\"><a class=\"AnchorLink\" href=\"/soccer/match/_/gameId/569833\" tabindex=\"0\">7:00 PM</a></td><td class=\"Table__TD\"><span>Brazilian Serie A</span></td><td class=\"Table__TD\"></td><td class=\"Table__TD\"></td></tr><tr class=\"Table__TR Table__TR--sm Table__even\" data-idx=\"3\"><td class=\"Table__TD\"><div class=\"matchTeams\">Sun, Oct 18</div></td><td class=\"Table__TD\"><div class=\"local flex items-center\"><a class=\"AnchorLink Table__Team\" href=\"/soccer/team/_/id/874/corinthians\" tabindex=\"0\">Corinthians</a></div></td><td class=\"Table__TD\"><span class=\"Table__Team score\"><a class=\"AnchorLink\" href=\"/soccer/team/_/id/874/corinthians\" tabindex=\"0\"><img alt=\"\" class=\"Image Logo Logo__sm\" data-mptype=\"image\" src=\"data:image/gif;base64,R0lGODlhAQABAIAAAAAAAP///yH5BAEAAAAALAAAAAABAAEAAAIBRAA7\"/></a><a class=\"AnchorLink\" href=\"/soccer/match/_/gameId/569823\" tabindex=\"0\">v</a><a class=\"AnchorLink\" href=\"/soccer/team/_/id/819/flamengo\" tabindex=\"0\"><img alt=\"\" class=\"Image Logo Logo__sm\" data-mptype=\"image\" src=\"data:image/gif;base64,R0lGODlhAQABAIAAAAAAAP///yH5BAEAAAAALAAAAAABAAEAAAIBRAA7\"/></a></span></td><td class=\"Table__TD\"><div class=\"away flex items-center\"><a class=\"AnchorLink Table__Team\" href=\"/soccer/team/_/id/819/flamengo\" tabindex=\"0\">Flamengo</a></div></td><td class=\"Table__TD\"><a class=\"AnchorLink\" href=\"/soccer/match/_/gameId/569823\" tabindex=\"0\">3:00 PM</a></td><td class=\"Table__TD\"><span>Brazilian Serie A</span></td><td class=\"Table__TD\"></td><td class=\"Table__TD\"></td></tr><tr class=\"Table__TR Table__TR--sm Table__even\" data-idx=\"4\"><td class=\"Table__TD\"><div class=\"matchTeams\">Wed, Oct 21</div></td><td class=\"Table__TD\"><div class=\"local flex items-center\"><a class=\"AnchorLink Table__Team\" href=\"/soccer/team/_/id/819/flamengo\" tabindex=\"0\">Flamengo</a></div></td><td class=\"Table__TD\"><span class=\"Table__Team score\"><a class=\"AnchorLink\" href=\"/soccer/team/_/id/819/flamengo\" tabindex=\"0\"><img alt=\"\" class=\"Image Logo Logo__sm\" data-mptype=\"image\" src=\"data:image/gif;base64,R0lGODlhAQABAIAAAAAAAP///yH5BAEAAAAALAAAAAABAAEAAAIBRAA7\"/></a><a class=\"AnchorLink\" href=\"/soccer/match/_/gameId/561205\" tabindex=\"0\">v</a><a class=\"AnchorLink\" href=\"/soccer/team/_/id/4815/atletico-junior\" tabindex=\"0\"><img alt=\"\" class=\"Image Logo Logo__sm\" data-mptype=\"image\" src=\"data:image/gif;base64,R0lGODlhAQABAIAAAAAAAP///yH5BAEAAAAALAAAAAABAAEAAAIBRAA7\"/></a></span></td><td class=\"Table__TD\"><div class=\"away flex items-center\"><a class=\"AnchorLink Table__Team\" href=\"/soccer/team/_/id/4815/atletico-junior\" tabindex=\"0\">Atlético Junior</a></div></td><td class=\"Table__TD\"><a class=\"AnchorLink\" href=\"/soccer/match/_/gameId/561205\" tabindex=\"0\">8:30 PM</a></td><td class=\"Table__TD\"><span>CONMEBOL Copa Libertadores</span></td><td class=\"Table__TD\"></td><td class=\"Table__TD\"></td></tr><tr class=\"Table__TR Table__TR--sm Table__even\" data-idx=\"5\"><td class=\"Table__TD\"><div class=\"matchTeams\">Sun, Oct 25</div></td><td class=\"Table__TD\"><div class=\"local flex items-center\"><a class=\"AnchorLink Table__Team\" href=\"/soccer/team/_/id/1936/internacional\" tabindex=\"0\">Internacional</a></div></td><td class=\"Table__TD\"><span class=\"Table__Team score\"><a class=\"AnchorLink\" href=\"/soccer/team/_/id/1936/internacional\" tabindex=\"0\"><img alt=\"\" class=\"Image Logo Logo__sm\" data-mptype=\"image\" src=\"data:image/gif;base64,R0lGODlhAQABAIAAAAAAAP///yH5BAEAAAAALAAAAAABAAEAAAIBRAA7\"/></a><a class=\"AnchorLink\" href=\"/soccer/match/_/gameId/569813\" tabindex=\"0\">v</a><a class=\"AnchorLink\" href=\"/soccer/team/_/id/819/flamengo\" tabindex=\"0\"><img alt=\"\" class=\"Image Logo Logo__sm\" data-mptype=\"image\" src=\"data:image/gif;base64,R0lGODlhAQABAIAAAAAAAP///yH5BAEAAAAALAAAAAABAAEAAAIBRAA7\"/></a></span></td><td class=\"Table__TD\"><div class=\"away flex items-center\"><a class=\"AnchorLink Table__Team\" href=\"/soccer/team/_/id/819/flamengo\" tabindex=\"0\">Flamengo</a></div></td><td class=\"Table__TD\"><a class=\"AnchorLink\" href=\"/soccer/match/_/gameId/569813\" tabindex=\"0\">5:15 PM</a></td><td class=\"Table__TD\"><span>Brazilian Serie A</span></td><td class=\"Table__TD\"></td><td class=\"Table__TD\"></td></tr><tr class=\"Table__TR Table__TR--sm Table__even\" data-idx=\"6\"><td class=\"Table__TD\"><div class=\"matchTeams\">Wed, Oct 28</div></td><td class=\"Table__TD\"><div class=\"local flex items-center\"><a class=\"AnchorLink Table__Team\" href=\"/soccer/team/_/id/3458/athletico-pr\" tabindex=\"0\">Athletico-PR</a></div></td><td class=\"Table__TD\"><span class=\"Table__Team score Custom_Notes_Header\"><a class=\"AnchorLink\" href=\"/soccer/team/_/id/3458/athletico-pr\" tabindex=\"0\"><img alt=\"\" class=\"Image Logo Logo__sm\" data-mptype=\"image\" src=\"data:image/gif;base64,R0lGODlhAQABAIAAAAAAAP///yH5BAEAAAAALAAAAAABAAEAAAIBRAA7\"/></a><a class=\"AnchorLink\" href=\"/soccer/match/_/gameId/585754\" tabindex=\"0\">v</a><a class=\"AnchorLink\" href=\"/soccer/team/_/id/819/flamengo\" tabindex=\"0\"><img alt=\"\" class=\"Image Logo Logo__sm\" data-mptype=\"image\" src=\"data:image/gif;base64,R0lGODlhAQABAIAAAAAAAP///yH5BAEAAAAALAAAAAABAAEAAAIBRAA7\"/></a></span><span class=\"gameNote pt3\">1st Leg</span></td><td class=\"Table__TD\"><div class=\"away flex items-center\"><a class=\"AnchorLink Table__Team\" href=\"/soccer/team/_/id/819/flamengo\" tabindex=\"0\">Flamengo</a></div></td><td class=\"Table__TD\"><a class=\"AnchorLink\" href=\"/soccer/match/_/gameId/585754\" tabindex=\"0\">8:30 PM</a></td><td class=\"Table__TD\"><span>Copa Do Brazil</span></td><td class=\"Table__TD\"></td><td class=\"Table__TD\"></td></tr></tbody></table>,\n",
       " <table class=\"Table\" style=\"border-collapse:collapse;border-spacing:0\"><colgroup class=\"Table__Colgroup\"><col class=\"Table__Column\"/><col class=\"Table__Column\"/><col class=\"Table__Column\"/><col class=\"Table__Column\"/><col class=\"Table__Column\"/><col class=\"Table__Column\"/><col class=\"Table__Column\"/><col class=\"Table__Column\"/></colgroup><thead class=\"Table__THEAD\"><tr class=\"Table__TR Table__even\"><th class=\"Table__TH\" title=\"\">DATE</th><th class=\"Table__TH\" colspan=\"3\" title=\"\">MATCH</th><th class=\"Table__TH\" title=\"\">TIME</th><th class=\"Table__TH\" title=\"\">COMPETITION</th><th class=\"Table__TH\" title=\"\">TV</th></tr></thead><tbody class=\"Table__TBODY\"><tr class=\"Table__TR Table__TR--sm Table__even\" data-idx=\"0\"><td class=\"Table__TD\"><div class=\"matchTeams\">Sun, Nov 1</div></td><td class=\"Table__TD\"><div class=\"local flex items-center\"><a class=\"AnchorLink Table__Team\" href=\"/soccer/team/_/id/819/flamengo\" tabindex=\"0\">Flamengo</a></div></td><td class=\"Table__TD\"><span class=\"Table__Team score\"><a class=\"AnchorLink\" href=\"/soccer/team/_/id/819/flamengo\" tabindex=\"0\"><img alt=\"\" class=\"Image Logo Logo__sm\" data-mptype=\"image\" src=\"data:image/gif;base64,R0lGODlhAQABAIAAAAAAAP///yH5BAEAAAAALAAAAAABAAEAAAIBRAA7\"/></a><a class=\"AnchorLink\" href=\"/soccer/match/_/gameId/569808\" tabindex=\"0\">v</a><a class=\"AnchorLink\" href=\"/soccer/team/_/id/2026/sao-paulo\" tabindex=\"0\"><img alt=\"\" class=\"Image Logo Logo__sm\" data-mptype=\"image\" src=\"data:image/gif;base64,R0lGODlhAQABAIAAAAAAAP///yH5BAEAAAAALAAAAAABAAEAAAIBRAA7\"/></a></span></td><td class=\"Table__TD\"><div class=\"away flex items-center\"><a class=\"AnchorLink Table__Team\" href=\"/soccer/team/_/id/2026/sao-paulo\" tabindex=\"0\">São Paulo</a></div></td><td class=\"Table__TD\"><a class=\"AnchorLink\" href=\"/soccer/match/_/gameId/569808\" tabindex=\"0\">2:00 PM</a></td><td class=\"Table__TD\"><span>Brazilian Serie A</span></td><td class=\"Table__TD\"></td><td class=\"Table__TD\"></td></tr><tr class=\"Table__TR Table__TR--sm Table__even\" data-idx=\"1\"><td class=\"Table__TD\"><div class=\"matchTeams\">Wed, Nov 4</div></td><td class=\"Table__TD\"><div class=\"local flex items-center\"><a class=\"AnchorLink Table__Team\" href=\"/soccer/team/_/id/819/flamengo\" tabindex=\"0\">Flamengo</a></div></td><td class=\"Table__TD\"><span class=\"Table__Team score Custom_Notes_Header\"><a class=\"AnchorLink\" href=\"/soccer/team/_/id/819/flamengo\" tabindex=\"0\"><img alt=\"\" class=\"Image Logo Logo__sm\" data-mptype=\"image\" src=\"data:image/gif;base64,R0lGODlhAQABAIAAAAAAAP///yH5BAEAAAAALAAAAAABAAEAAAIBRAA7\"/></a><a class=\"AnchorLink\" href=\"/soccer/match/_/gameId/585744\" tabindex=\"0\">v</a><a class=\"AnchorLink\" href=\"/soccer/team/_/id/3458/athletico-pr\" tabindex=\"0\"><img alt=\"\" class=\"Image Logo Logo__sm\" data-mptype=\"image\" src=\"data:image/gif;base64,R0lGODlhAQABAIAAAAAAAP///yH5BAEAAAAALAAAAAABAAEAAAIBRAA7\"/></a></span><span class=\"gameNote pt3\">2nd Leg</span></td><td class=\"Table__TD\"><div class=\"away flex items-center\"><a class=\"AnchorLink Table__Team\" href=\"/soccer/team/_/id/3458/athletico-pr\" tabindex=\"0\">Athletico-PR</a></div></td><td class=\"Table__TD\"><a class=\"AnchorLink\" href=\"/soccer/match/_/gameId/585744\" tabindex=\"0\">7:30 PM</a></td><td class=\"Table__TD\"><span>Copa Do Brazil</span></td><td class=\"Table__TD\"></td><td class=\"Table__TD\"></td></tr><tr class=\"Table__TR Table__TR--sm Table__even\" data-idx=\"2\"><td class=\"Table__TD\"><div class=\"matchTeams\">Sat, Nov 7</div></td><td class=\"Table__TD\"><div class=\"local flex items-center\"><a class=\"AnchorLink Table__Team\" href=\"/soccer/team/_/id/7632/atletico-mg\" tabindex=\"0\">Atlético-MG</a></div></td><td class=\"Table__TD\"><span class=\"Table__Team score\"><a class=\"AnchorLink\" href=\"/soccer/team/_/id/7632/atletico-mg\" tabindex=\"0\"><img alt=\"\" class=\"Image Logo Logo__sm\" data-mptype=\"image\" src=\"data:image/gif;base64,R0lGODlhAQABAIAAAAAAAP///yH5BAEAAAAALAAAAAABAAEAAAIBRAA7\"/></a><a class=\"AnchorLink\" href=\"/soccer/match/_/gameId/569793\" tabindex=\"0\">v</a><a class=\"AnchorLink\" href=\"/soccer/team/_/id/819/flamengo\" tabindex=\"0\"><img alt=\"\" class=\"Image Logo Logo__sm\" data-mptype=\"image\" src=\"data:image/gif;base64,R0lGODlhAQABAIAAAAAAAP///yH5BAEAAAAALAAAAAABAAEAAAIBRAA7\"/></a></span></td><td class=\"Table__TD\"><div class=\"away flex items-center\"><a class=\"AnchorLink Table__Team\" href=\"/soccer/team/_/id/819/flamengo\" tabindex=\"0\">Flamengo</a></div></td><td class=\"Table__TD\"><a class=\"AnchorLink\" href=\"/soccer/match/_/gameId/569793\" tabindex=\"0\">5:00 PM</a></td><td class=\"Table__TD\"><span>Brazilian Serie A</span></td><td class=\"Table__TD\"></td><td class=\"Table__TD\"></td></tr><tr class=\"Table__TR Table__TR--sm Table__even\" data-idx=\"3\"><td class=\"Table__TD\"><div class=\"matchTeams\">Sat, Nov 14</div></td><td class=\"Table__TD\"><div class=\"local flex items-center\"><a class=\"AnchorLink Table__Team\" href=\"/soccer/team/_/id/819/flamengo\" tabindex=\"0\">Flamengo</a></div></td><td class=\"Table__TD\"><span class=\"Table__Team score\"><a class=\"AnchorLink\" href=\"/soccer/team/_/id/819/flamengo\" tabindex=\"0\"><img alt=\"\" class=\"Image Logo Logo__sm\" data-mptype=\"image\" src=\"data:image/gif;base64,R0lGODlhAQABAIAAAAAAAP///yH5BAEAAAAALAAAAAABAAEAAAIBRAA7\"/></a><a class=\"AnchorLink\" href=\"/soccer/match/_/gameId/569781\" tabindex=\"0\">v</a><a class=\"AnchorLink\" href=\"/soccer/team/_/id/10357/atletico-go\" tabindex=\"0\"><img alt=\"\" class=\"Image Logo Logo__sm\" data-mptype=\"image\" src=\"data:image/gif;base64,R0lGODlhAQABAIAAAAAAAP///yH5BAEAAAAALAAAAAABAAEAAAIBRAA7\"/></a></span></td><td class=\"Table__TD\"><div class=\"away flex items-center\"><a class=\"AnchorLink Table__Team\" href=\"/soccer/team/_/id/10357/atletico-go\" tabindex=\"0\">Atlético-GO</a></div></td><td class=\"Table__TD\"><a class=\"AnchorLink\" href=\"/soccer/match/_/gameId/569781\" tabindex=\"0\">3:00 PM</a></td><td class=\"Table__TD\"><span>Brazilian Serie A</span></td><td class=\"Table__TD\"></td><td class=\"Table__TD\"></td></tr><tr class=\"Table__TR Table__TR--sm Table__even\" data-idx=\"4\"><td class=\"Table__TD\"><div class=\"matchTeams\">Sun, Nov 22</div></td><td class=\"Table__TD\"><div class=\"local flex items-center\"><a class=\"AnchorLink Table__Team\" href=\"/soccer/team/_/id/819/flamengo\" tabindex=\"0\">Flamengo</a></div></td><td class=\"Table__TD\"><span class=\"Table__Team score\"><a class=\"AnchorLink\" href=\"/soccer/team/_/id/819/flamengo\" tabindex=\"0\"><img alt=\"\" class=\"Image Logo Logo__sm\" data-mptype=\"image\" src=\"data:image/gif;base64,R0lGODlhAQABAIAAAAAAAP///yH5BAEAAAAALAAAAAABAAEAAAIBRAA7\"/></a><a class=\"AnchorLink\" href=\"/soccer/match/_/gameId/569773\" tabindex=\"0\">v</a><a class=\"AnchorLink\" href=\"/soccer/team/_/id/3456/coritiba\" tabindex=\"0\"><img alt=\"\" class=\"Image Logo Logo__sm\" data-mptype=\"image\" src=\"data:image/gif;base64,R0lGODlhAQABAIAAAAAAAP///yH5BAEAAAAALAAAAAABAAEAAAIBRAA7\"/></a></span></td><td class=\"Table__TD\"><div class=\"away flex items-center\"><a class=\"AnchorLink Table__Team\" href=\"/soccer/team/_/id/3456/coritiba\" tabindex=\"0\">Coritiba</a></div></td><td class=\"Table__TD\"><a class=\"AnchorLink\" href=\"/soccer/match/_/gameId/569773\" tabindex=\"0\">3:00 PM</a></td><td class=\"Table__TD\"><span>Brazilian Serie A</span></td><td class=\"Table__TD\"></td><td class=\"Table__TD\"></td></tr><tr class=\"Table__TR Table__TR--sm Table__even\" data-idx=\"5\"><td class=\"Table__TD\"><div class=\"matchTeams\">Sat, Nov 28</div></td><td class=\"Table__TD\"><div class=\"local flex items-center\"><a class=\"AnchorLink Table__Team\" href=\"/soccer/team/_/id/6273/gremio\" tabindex=\"0\">Grêmio</a></div></td><td class=\"Table__TD\"><span class=\"Table__Team score\"><a class=\"AnchorLink\" href=\"/soccer/team/_/id/6273/gremio\" tabindex=\"0\"><img alt=\"\" class=\"Image Logo Logo__sm\" data-mptype=\"image\" src=\"data:image/gif;base64,R0lGODlhAQABAIAAAAAAAP///yH5BAEAAAAALAAAAAABAAEAAAIBRAA7\"/></a><a class=\"AnchorLink\" href=\"/soccer/match/_/gameId/569765\" tabindex=\"0\">v</a><a class=\"AnchorLink\" href=\"/soccer/team/_/id/819/flamengo\" tabindex=\"0\"><img alt=\"\" class=\"Image Logo Logo__sm\" data-mptype=\"image\" src=\"data:image/gif;base64,R0lGODlhAQABAIAAAAAAAP///yH5BAEAAAAALAAAAAABAAEAAAIBRAA7\"/></a></span></td><td class=\"Table__TD\"><div class=\"away flex items-center\"><a class=\"AnchorLink Table__Team\" href=\"/soccer/team/_/id/819/flamengo\" tabindex=\"0\">Flamengo</a></div></td><td class=\"Table__TD\"><a class=\"AnchorLink\" href=\"/soccer/match/_/gameId/569765\" tabindex=\"0\">3:00 PM</a></td><td class=\"Table__TD\"><span>Brazilian Serie A</span></td><td class=\"Table__TD\"></td><td class=\"Table__TD\"></td></tr></tbody></table>,\n",
       " <table class=\"Table\" style=\"border-collapse:collapse;border-spacing:0\"><colgroup class=\"Table__Colgroup\"><col class=\"Table__Column\"/><col class=\"Table__Column\"/><col class=\"Table__Column\"/><col class=\"Table__Column\"/><col class=\"Table__Column\"/><col class=\"Table__Column\"/><col class=\"Table__Column\"/><col class=\"Table__Column\"/></colgroup><thead class=\"Table__THEAD\"><tr class=\"Table__TR Table__even\"><th class=\"Table__TH\" title=\"\">DATE</th><th class=\"Table__TH\" colspan=\"3\" title=\"\">MATCH</th><th class=\"Table__TH\" title=\"\">TIME</th><th class=\"Table__TH\" title=\"\">COMPETITION</th><th class=\"Table__TH\" title=\"\">TV</th></tr></thead><tbody class=\"Table__TBODY\"><tr class=\"Table__TR Table__TR--sm Table__even\" data-idx=\"0\"><td class=\"Table__TD\"><div class=\"matchTeams\">Sun, Dec 6</div></td><td class=\"Table__TD\"><div class=\"local flex items-center\"><a class=\"AnchorLink Table__Team\" href=\"/soccer/team/_/id/6086/botafogo\" tabindex=\"0\">Botafogo</a></div></td><td class=\"Table__TD\"><span class=\"Table__Team score\"><a class=\"AnchorLink\" href=\"/soccer/team/_/id/6086/botafogo\" tabindex=\"0\"><img alt=\"\" class=\"Image Logo Logo__sm\" data-mptype=\"image\" src=\"data:image/gif;base64,R0lGODlhAQABAIAAAAAAAP///yH5BAEAAAAALAAAAAABAAEAAAIBRAA7\"/></a><a class=\"AnchorLink\" href=\"/soccer/match/_/gameId/569754\" tabindex=\"0\">v</a><a class=\"AnchorLink\" href=\"/soccer/team/_/id/819/flamengo\" tabindex=\"0\"><img alt=\"\" class=\"Image Logo Logo__sm\" data-mptype=\"image\" src=\"data:image/gif;base64,R0lGODlhAQABAIAAAAAAAP///yH5BAEAAAAALAAAAAABAAEAAAIBRAA7\"/></a></span></td><td class=\"Table__TD\"><div class=\"away flex items-center\"><a class=\"AnchorLink Table__Team\" href=\"/soccer/team/_/id/819/flamengo\" tabindex=\"0\">Flamengo</a></div></td><td class=\"Table__TD\"><a class=\"AnchorLink\" href=\"/soccer/match/_/gameId/569754\" tabindex=\"0\">3:00 PM</a></td><td class=\"Table__TD\"><span>Brazilian Serie A</span></td><td class=\"Table__TD\"></td><td class=\"Table__TD\"></td></tr><tr class=\"Table__TR Table__TR--sm Table__even\" data-idx=\"1\"><td class=\"Table__TD\"><div class=\"matchTeams\">Sun, Dec 13</div></td><td class=\"Table__TD\"><div class=\"local flex items-center\"><a class=\"AnchorLink Table__Team\" href=\"/soccer/team/_/id/819/flamengo\" tabindex=\"0\">Flamengo</a></div></td><td class=\"Table__TD\"><span class=\"Table__Team score\"><a class=\"AnchorLink\" href=\"/soccer/team/_/id/819/flamengo\" tabindex=\"0\"><img alt=\"\" class=\"Image Logo Logo__sm\" data-mptype=\"image\" src=\"data:image/gif;base64,R0lGODlhAQABAIAAAAAAAP///yH5BAEAAAAALAAAAAABAAEAAAIBRAA7\"/></a><a class=\"AnchorLink\" href=\"/soccer/match/_/gameId/569748\" tabindex=\"0\">v</a><a class=\"AnchorLink\" href=\"/soccer/team/_/id/2674/santos\" tabindex=\"0\"><img alt=\"\" class=\"Image Logo Logo__sm\" data-mptype=\"image\" src=\"data:image/gif;base64,R0lGODlhAQABAIAAAAAAAP///yH5BAEAAAAALAAAAAABAAEAAAIBRAA7\"/></a></span></td><td class=\"Table__TD\"><div class=\"away flex items-center\"><a class=\"AnchorLink Table__Team\" href=\"/soccer/team/_/id/2674/santos\" tabindex=\"0\">Santos</a></div></td><td class=\"Table__TD\"><a class=\"AnchorLink\" href=\"/soccer/match/_/gameId/569748\" tabindex=\"0\">3:00 PM</a></td><td class=\"Table__TD\"><span>Brazilian Serie A</span></td><td class=\"Table__TD\"></td><td class=\"Table__TD\"></td></tr><tr class=\"Table__TR Table__TR--sm Table__even\" data-idx=\"2\"><td class=\"Table__TD\"><div class=\"matchTeams\">Sun, Dec 20</div></td><td class=\"Table__TD\"><div class=\"local flex items-center\"><a class=\"AnchorLink Table__Team\" href=\"/soccer/team/_/id/819/flamengo\" tabindex=\"0\">Flamengo</a></div></td><td class=\"Table__TD\"><span class=\"Table__Team score\"><a class=\"AnchorLink\" href=\"/soccer/team/_/id/819/flamengo\" tabindex=\"0\"><img alt=\"\" class=\"Image Logo Logo__sm\" data-mptype=\"image\" src=\"data:image/gif;base64,R0lGODlhAQABAIAAAAAAAP///yH5BAEAAAAALAAAAAABAAEAAAIBRAA7\"/></a><a class=\"AnchorLink\" href=\"/soccer/match/_/gameId/569732\" tabindex=\"0\">v</a><a class=\"AnchorLink\" href=\"/soccer/team/_/id/9967/bahia\" tabindex=\"0\"><img alt=\"\" class=\"Image Logo Logo__sm\" data-mptype=\"image\" src=\"data:image/gif;base64,R0lGODlhAQABAIAAAAAAAP///yH5BAEAAAAALAAAAAABAAEAAAIBRAA7\"/></a></span></td><td class=\"Table__TD\"><div class=\"away flex items-center\"><a class=\"AnchorLink Table__Team\" href=\"/soccer/team/_/id/9967/bahia\" tabindex=\"0\">Bahia</a></div></td><td class=\"Table__TD\"><a class=\"AnchorLink\" href=\"/soccer/match/_/gameId/569732\" tabindex=\"0\">3:00 PM</a></td><td class=\"Table__TD\"><span>Brazilian Serie A</span></td><td class=\"Table__TD\"></td><td class=\"Table__TD\"></td></tr><tr class=\"Table__TR Table__TR--sm Table__even\" data-idx=\"3\"><td class=\"Table__TD\"><div class=\"matchTeams\">Sun, Dec 27</div></td><td class=\"Table__TD\"><div class=\"local flex items-center\"><a class=\"AnchorLink Table__Team\" href=\"/soccer/team/_/id/6272/fortaleza\" tabindex=\"0\">Fortaleza</a></div></td><td class=\"Table__TD\"><span class=\"Table__Team score\"><a class=\"AnchorLink\" href=\"/soccer/team/_/id/6272/fortaleza\" tabindex=\"0\"><img alt=\"\" class=\"Image Logo Logo__sm\" data-mptype=\"image\" src=\"data:image/gif;base64,R0lGODlhAQABAIAAAAAAAP///yH5BAEAAAAALAAAAAABAAEAAAIBRAA7\"/></a><a class=\"AnchorLink\" href=\"/soccer/match/_/gameId/569725\" tabindex=\"0\">v</a><a class=\"AnchorLink\" href=\"/soccer/team/_/id/819/flamengo\" tabindex=\"0\"><img alt=\"\" class=\"Image Logo Logo__sm\" data-mptype=\"image\" src=\"data:image/gif;base64,R0lGODlhAQABAIAAAAAAAP///yH5BAEAAAAALAAAAAABAAEAAAIBRAA7\"/></a></span></td><td class=\"Table__TD\"><div class=\"away flex items-center\"><a class=\"AnchorLink Table__Team\" href=\"/soccer/team/_/id/819/flamengo\" tabindex=\"0\">Flamengo</a></div></td><td class=\"Table__TD\"><a class=\"AnchorLink\" href=\"/soccer/match/_/gameId/569725\" tabindex=\"0\">3:00 PM</a></td><td class=\"Table__TD\"><span>Brazilian Serie A</span></td><td class=\"Table__TD\"></td><td class=\"Table__TD\"></td></tr></tbody></table>,\n",
       " <table class=\"Table\" style=\"border-collapse:collapse;border-spacing:0\"><colgroup class=\"Table__Colgroup\"><col class=\"Table__Column\"/><col class=\"Table__Column\"/><col class=\"Table__Column\"/><col class=\"Table__Column\"/><col class=\"Table__Column\"/><col class=\"Table__Column\"/><col class=\"Table__Column\"/><col class=\"Table__Column\"/></colgroup><thead class=\"Table__THEAD\"><tr class=\"Table__TR Table__even\"><th class=\"Table__TH\" title=\"\">DATE</th><th class=\"Table__TH\" colspan=\"3\" title=\"\">MATCH</th><th class=\"Table__TH\" title=\"\">TIME</th><th class=\"Table__TH\" title=\"\">COMPETITION</th><th class=\"Table__TH\" title=\"\">TV</th></tr></thead><tbody class=\"Table__TBODY\"><tr class=\"Table__TR Table__TR--sm Table__even\" data-idx=\"0\"><td class=\"Table__TD\"><div class=\"matchTeams\">Sun, Jan 3</div></td><td class=\"Table__TD\"><div class=\"local flex items-center\"><a class=\"AnchorLink Table__Team\" href=\"/soccer/team/_/id/819/flamengo\" tabindex=\"0\">Flamengo</a></div></td><td class=\"Table__TD\"><span class=\"Table__Team score\"><a class=\"AnchorLink\" href=\"/soccer/team/_/id/819/flamengo\" tabindex=\"0\"><img alt=\"\" class=\"Image Logo Logo__sm\" data-mptype=\"image\" src=\"data:image/gif;base64,R0lGODlhAQABAIAAAAAAAP///yH5BAEAAAAALAAAAAABAAEAAAIBRAA7\"/></a><a class=\"AnchorLink\" href=\"/soccer/match/_/gameId/569713\" tabindex=\"0\">v</a><a class=\"AnchorLink\" href=\"/soccer/team/_/id/3445/fluminense\" tabindex=\"0\"><img alt=\"\" class=\"Image Logo Logo__sm\" data-mptype=\"image\" src=\"data:image/gif;base64,R0lGODlhAQABAIAAAAAAAP///yH5BAEAAAAALAAAAAABAAEAAAIBRAA7\"/></a></span></td><td class=\"Table__TD\"><div class=\"away flex items-center\"><a class=\"AnchorLink Table__Team\" href=\"/soccer/team/_/id/3445/fluminense\" tabindex=\"0\">Fluminense</a></div></td><td class=\"Table__TD\"><a class=\"AnchorLink\" href=\"/soccer/match/_/gameId/569713\" tabindex=\"0\">3:00 PM</a></td><td class=\"Table__TD\"><span>Brazilian Serie A</span></td><td class=\"Table__TD\"></td><td class=\"Table__TD\"></td></tr><tr class=\"Table__TR Table__TR--sm Table__even\" data-idx=\"1\"><td class=\"Table__TD\"><div class=\"matchTeams\">Sun, Jan 10</div></td><td class=\"Table__TD\"><div class=\"local flex items-center\"><a class=\"AnchorLink Table__Team\" href=\"/soccer/team/_/id/819/flamengo\" tabindex=\"0\">Flamengo</a></div></td><td class=\"Table__TD\"><span class=\"Table__Team score\"><a class=\"AnchorLink\" href=\"/soccer/team/_/id/819/flamengo\" tabindex=\"0\"><img alt=\"\" class=\"Image Logo Logo__sm\" data-mptype=\"image\" src=\"data:image/gif;base64,R0lGODlhAQABAIAAAAAAAP///yH5BAEAAAAALAAAAAABAAEAAAIBRAA7\"/></a><a class=\"AnchorLink\" href=\"/soccer/match/_/gameId/569704\" tabindex=\"0\">v</a><a class=\"AnchorLink\" href=\"/soccer/team/_/id/9969/ceara\" tabindex=\"0\"><img alt=\"\" class=\"Image Logo Logo__sm\" data-mptype=\"image\" src=\"data:image/gif;base64,R0lGODlhAQABAIAAAAAAAP///yH5BAEAAAAALAAAAAABAAEAAAIBRAA7\"/></a></span></td><td class=\"Table__TD\"><div class=\"away flex items-center\"><a class=\"AnchorLink Table__Team\" href=\"/soccer/team/_/id/9969/ceara\" tabindex=\"0\">Ceará</a></div></td><td class=\"Table__TD\"><a class=\"AnchorLink\" href=\"/soccer/match/_/gameId/569704\" tabindex=\"0\">3:00 PM</a></td><td class=\"Table__TD\"><span>Brazilian Serie A</span></td><td class=\"Table__TD\"></td><td class=\"Table__TD\"></td></tr><tr class=\"Table__TR Table__TR--sm Table__even\" data-idx=\"2\"><td class=\"Table__TD\"><div class=\"matchTeams\">Sun, Jan 17</div></td><td class=\"Table__TD\"><div class=\"local flex items-center\"><a class=\"AnchorLink Table__Team\" href=\"/soccer/team/_/id/3395/goias\" tabindex=\"0\">Goiás</a></div></td><td class=\"Table__TD\"><span class=\"Table__Team score\"><a class=\"AnchorLink\" href=\"/soccer/team/_/id/3395/goias\" tabindex=\"0\"><img alt=\"\" class=\"Image Logo Logo__sm\" data-mptype=\"image\" src=\"data:image/gif;base64,R0lGODlhAQABAIAAAAAAAP///yH5BAEAAAAALAAAAAABAAEAAAIBRAA7\"/></a><a class=\"AnchorLink\" href=\"/soccer/match/_/gameId/569695\" tabindex=\"0\">v</a><a class=\"AnchorLink\" href=\"/soccer/team/_/id/819/flamengo\" tabindex=\"0\"><img alt=\"\" class=\"Image Logo Logo__sm\" data-mptype=\"image\" src=\"data:image/gif;base64,R0lGODlhAQABAIAAAAAAAP///yH5BAEAAAAALAAAAAABAAEAAAIBRAA7\"/></a></span></td><td class=\"Table__TD\"><div class=\"away flex items-center\"><a class=\"AnchorLink Table__Team\" href=\"/soccer/team/_/id/819/flamengo\" tabindex=\"0\">Flamengo</a></div></td><td class=\"Table__TD\"><a class=\"AnchorLink\" href=\"/soccer/match/_/gameId/569695\" tabindex=\"0\">3:00 PM</a></td><td class=\"Table__TD\"><span>Brazilian Serie A</span></td><td class=\"Table__TD\"></td><td class=\"Table__TD\"></td></tr><tr class=\"Table__TR Table__TR--sm Table__even\" data-idx=\"3\"><td class=\"Table__TD\"><div class=\"matchTeams\">Wed, Jan 20</div></td><td class=\"Table__TD\"><div class=\"local flex items-center\"><a class=\"AnchorLink Table__Team\" href=\"/soccer/team/_/id/819/flamengo\" tabindex=\"0\">Flamengo</a></div></td><td class=\"Table__TD\"><span class=\"Table__Team score\"><a class=\"AnchorLink\" href=\"/soccer/team/_/id/819/flamengo\" tabindex=\"0\"><img alt=\"\" class=\"Image Logo Logo__sm\" data-mptype=\"image\" src=\"data:image/gif;base64,R0lGODlhAQABAIAAAAAAAP///yH5BAEAAAAALAAAAAABAAEAAAIBRAA7\"/></a><a class=\"AnchorLink\" href=\"/soccer/match/_/gameId/569686\" tabindex=\"0\">v</a><a class=\"AnchorLink\" href=\"/soccer/team/_/id/2029/palmeiras\" tabindex=\"0\"><img alt=\"\" class=\"Image Logo Logo__sm\" data-mptype=\"image\" src=\"data:image/gif;base64,R0lGODlhAQABAIAAAAAAAP///yH5BAEAAAAALAAAAAABAAEAAAIBRAA7\"/></a></span></td><td class=\"Table__TD\"><div class=\"away flex items-center\"><a class=\"AnchorLink Table__Team\" href=\"/soccer/team/_/id/2029/palmeiras\" tabindex=\"0\">Palmeiras</a></div></td><td class=\"Table__TD\"><a class=\"AnchorLink\" href=\"/soccer/match/_/gameId/569686\" tabindex=\"0\">3:00 PM</a></td><td class=\"Table__TD\"><span>Brazilian Serie A</span></td><td class=\"Table__TD\"></td><td class=\"Table__TD\"></td></tr><tr class=\"Table__TR Table__TR--sm Table__even\" data-idx=\"4\"><td class=\"Table__TD\"><div class=\"matchTeams\">Sun, Jan 24</div></td><td class=\"Table__TD\"><div class=\"local flex items-center\"><a class=\"AnchorLink Table__Team\" href=\"/soccer/team/_/id/3458/athletico-pr\" tabindex=\"0\">Athletico-PR</a></div></td><td class=\"Table__TD\"><span class=\"Table__Team score\"><a class=\"AnchorLink\" href=\"/soccer/team/_/id/3458/athletico-pr\" tabindex=\"0\"><img alt=\"\" class=\"Image Logo Logo__sm\" data-mptype=\"image\" src=\"data:image/gif;base64,R0lGODlhAQABAIAAAAAAAP///yH5BAEAAAAALAAAAAABAAEAAAIBRAA7\"/></a><a class=\"AnchorLink\" href=\"/soccer/match/_/gameId/569675\" tabindex=\"0\">v</a><a class=\"AnchorLink\" href=\"/soccer/team/_/id/819/flamengo\" tabindex=\"0\"><img alt=\"\" class=\"Image Logo Logo__sm\" data-mptype=\"image\" src=\"data:image/gif;base64,R0lGODlhAQABAIAAAAAAAP///yH5BAEAAAAALAAAAAABAAEAAAIBRAA7\"/></a></span></td><td class=\"Table__TD\"><div class=\"away flex items-center\"><a class=\"AnchorLink Table__Team\" href=\"/soccer/team/_/id/819/flamengo\" tabindex=\"0\">Flamengo</a></div></td><td class=\"Table__TD\"><a class=\"AnchorLink\" href=\"/soccer/match/_/gameId/569675\" tabindex=\"0\">3:00 PM</a></td><td class=\"Table__TD\"><span>Brazilian Serie A</span></td><td class=\"Table__TD\"></td><td class=\"Table__TD\"></td></tr><tr class=\"Table__TR Table__TR--sm Table__even\" data-idx=\"5\"><td class=\"Table__TD\"><div class=\"matchTeams\">Sun, Jan 31</div></td><td class=\"Table__TD\"><div class=\"local flex items-center\"><a class=\"AnchorLink Table__Team\" href=\"/soccer/team/_/id/7635/sport\" tabindex=\"0\">Sport</a></div></td><td class=\"Table__TD\"><span class=\"Table__Team score\"><a class=\"AnchorLink\" href=\"/soccer/team/_/id/7635/sport\" tabindex=\"0\"><img alt=\"\" class=\"Image Logo Logo__sm\" data-mptype=\"image\" src=\"data:image/gif;base64,R0lGODlhAQABAIAAAAAAAP///yH5BAEAAAAALAAAAAABAAEAAAIBRAA7\"/></a><a class=\"AnchorLink\" href=\"/soccer/match/_/gameId/569665\" tabindex=\"0\">v</a><a class=\"AnchorLink\" href=\"/soccer/team/_/id/819/flamengo\" tabindex=\"0\"><img alt=\"\" class=\"Image Logo Logo__sm\" data-mptype=\"image\" src=\"data:image/gif;base64,R0lGODlhAQABAIAAAAAAAP///yH5BAEAAAAALAAAAAABAAEAAAIBRAA7\"/></a></span></td><td class=\"Table__TD\"><div class=\"away flex items-center\"><a class=\"AnchorLink Table__Team\" href=\"/soccer/team/_/id/819/flamengo\" tabindex=\"0\">Flamengo</a></div></td><td class=\"Table__TD\"><a class=\"AnchorLink\" href=\"/soccer/match/_/gameId/569665\" tabindex=\"0\">3:00 PM</a></td><td class=\"Table__TD\"><span>Brazilian Serie A</span></td><td class=\"Table__TD\"></td><td class=\"Table__TD\"></td></tr></tbody></table>,\n",
       " <table class=\"Table\" style=\"border-collapse:collapse;border-spacing:0\"><colgroup class=\"Table__Colgroup\"><col class=\"Table__Column\"/><col class=\"Table__Column\"/><col class=\"Table__Column\"/><col class=\"Table__Column\"/><col class=\"Table__Column\"/><col class=\"Table__Column\"/><col class=\"Table__Column\"/><col class=\"Table__Column\"/></colgroup><thead class=\"Table__THEAD\"><tr class=\"Table__TR Table__even\"><th class=\"Table__TH\" title=\"\">DATE</th><th class=\"Table__TH\" colspan=\"3\" title=\"\">MATCH</th><th class=\"Table__TH\" title=\"\">TIME</th><th class=\"Table__TH\" title=\"\">COMPETITION</th><th class=\"Table__TH\" title=\"\">TV</th></tr></thead><tbody class=\"Table__TBODY\"><tr class=\"Table__TR Table__TR--sm Table__even\" data-idx=\"0\"><td class=\"Table__TD\"><div class=\"matchTeams\">Sun, Feb 7</div></td><td class=\"Table__TD\"><div class=\"local flex items-center\"><a class=\"AnchorLink Table__Team\" href=\"/soccer/team/_/id/819/flamengo\" tabindex=\"0\">Flamengo</a></div></td><td class=\"Table__TD\"><span class=\"Table__Team score\"><a class=\"AnchorLink\" href=\"/soccer/team/_/id/819/flamengo\" tabindex=\"0\"><img alt=\"\" class=\"Image Logo Logo__sm\" data-mptype=\"image\" src=\"data:image/gif;base64,R0lGODlhAQABAIAAAAAAAP///yH5BAEAAAAALAAAAAABAAEAAAIBRAA7\"/></a><a class=\"AnchorLink\" href=\"/soccer/match/_/gameId/569659\" tabindex=\"0\">v</a><a class=\"AnchorLink\" href=\"/soccer/team/_/id/3454/vasco-da-gama\" tabindex=\"0\"><img alt=\"\" class=\"Image Logo Logo__sm\" data-mptype=\"image\" src=\"data:image/gif;base64,R0lGODlhAQABAIAAAAAAAP///yH5BAEAAAAALAAAAAABAAEAAAIBRAA7\"/></a></span></td><td class=\"Table__TD\"><div class=\"away flex items-center\"><a class=\"AnchorLink Table__Team\" href=\"/soccer/team/_/id/3454/vasco-da-gama\" tabindex=\"0\">Vasco da Gama</a></div></td><td class=\"Table__TD\"><a class=\"AnchorLink\" href=\"/soccer/match/_/gameId/569659\" tabindex=\"0\">3:00 PM</a></td><td class=\"Table__TD\"><span>Brazilian Serie A</span></td><td class=\"Table__TD\"></td><td class=\"Table__TD\"></td></tr><tr class=\"Table__TR Table__TR--sm Table__even\" data-idx=\"1\"><td class=\"Table__TD\"><div class=\"matchTeams\">Sat, Feb 13</div></td><td class=\"Table__TD\"><div class=\"local flex items-center\"><a class=\"AnchorLink Table__Team\" href=\"/soccer/team/_/id/6079/red-bull-bragantino\" tabindex=\"0\">Red Bull Bragantino</a></div></td><td class=\"Table__TD\"><span class=\"Table__Team score\"><a class=\"AnchorLink\" href=\"/soccer/team/_/id/6079/red-bull-bragantino\" tabindex=\"0\"><img alt=\"\" class=\"Image Logo Logo__sm\" data-mptype=\"image\" src=\"data:image/gif;base64,R0lGODlhAQABAIAAAAAAAP///yH5BAEAAAAALAAAAAABAAEAAAIBRAA7\"/></a><a class=\"AnchorLink\" href=\"/soccer/match/_/gameId/569643\" tabindex=\"0\">v</a><a class=\"AnchorLink\" href=\"/soccer/team/_/id/819/flamengo\" tabindex=\"0\"><img alt=\"\" class=\"Image Logo Logo__sm\" data-mptype=\"image\" src=\"data:image/gif;base64,R0lGODlhAQABAIAAAAAAAP///yH5BAEAAAAALAAAAAABAAEAAAIBRAA7\"/></a></span></td><td class=\"Table__TD\"><div class=\"away flex items-center\"><a class=\"AnchorLink Table__Team\" href=\"/soccer/team/_/id/819/flamengo\" tabindex=\"0\">Flamengo</a></div></td><td class=\"Table__TD\"><a class=\"AnchorLink\" href=\"/soccer/match/_/gameId/569643\" tabindex=\"0\">3:00 PM</a></td><td class=\"Table__TD\"><span>Brazilian Serie A</span></td><td class=\"Table__TD\"></td><td class=\"Table__TD\"></td></tr><tr class=\"Table__TR Table__TR--sm Table__even\" data-idx=\"2\"><td class=\"Table__TD\"><div class=\"matchTeams\">Wed, Feb 17</div></td><td class=\"Table__TD\"><div class=\"local flex items-center\"><a class=\"AnchorLink Table__Team\" href=\"/soccer/team/_/id/819/flamengo\" tabindex=\"0\">Flamengo</a></div></td><td class=\"Table__TD\"><span class=\"Table__Team score\"><a class=\"AnchorLink\" href=\"/soccer/team/_/id/819/flamengo\" tabindex=\"0\"><img alt=\"\" class=\"Image Logo Logo__sm\" data-mptype=\"image\" src=\"data:image/gif;base64,R0lGODlhAQABAIAAAAAAAP///yH5BAEAAAAALAAAAAABAAEAAAIBRAA7\"/></a><a class=\"AnchorLink\" href=\"/soccer/match/_/gameId/569634\" tabindex=\"0\">v</a><a class=\"AnchorLink\" href=\"/soccer/team/_/id/874/corinthians\" tabindex=\"0\"><img alt=\"\" class=\"Image Logo Logo__sm\" data-mptype=\"image\" src=\"data:image/gif;base64,R0lGODlhAQABAIAAAAAAAP///yH5BAEAAAAALAAAAAABAAEAAAIBRAA7\"/></a></span></td><td class=\"Table__TD\"><div class=\"away flex items-center\"><a class=\"AnchorLink Table__Team\" href=\"/soccer/team/_/id/874/corinthians\" tabindex=\"0\">Corinthians</a></div></td><td class=\"Table__TD\"><a class=\"AnchorLink\" href=\"/soccer/match/_/gameId/569634\" tabindex=\"0\">3:00 PM</a></td><td class=\"Table__TD\"><span>Brazilian Serie A</span></td><td class=\"Table__TD\"></td><td class=\"Table__TD\"></td></tr><tr class=\"Table__TR Table__TR--sm Table__even\" data-idx=\"3\"><td class=\"Table__TD\"><div class=\"matchTeams\">Sun, Feb 21</div></td><td class=\"Table__TD\"><div class=\"local flex items-center\"><a class=\"AnchorLink Table__Team\" href=\"/soccer/team/_/id/819/flamengo\" tabindex=\"0\">Flamengo</a></div></td><td class=\"Table__TD\"><span class=\"Table__Team score\"><a class=\"AnchorLink\" href=\"/soccer/team/_/id/819/flamengo\" tabindex=\"0\"><img alt=\"\" class=\"Image Logo Logo__sm\" data-mptype=\"image\" src=\"data:image/gif;base64,R0lGODlhAQABAIAAAAAAAP///yH5BAEAAAAALAAAAAABAAEAAAIBRAA7\"/></a><a class=\"AnchorLink\" href=\"/soccer/match/_/gameId/569627\" tabindex=\"0\">v</a><a class=\"AnchorLink\" href=\"/soccer/team/_/id/1936/internacional\" tabindex=\"0\"><img alt=\"\" class=\"Image Logo Logo__sm\" data-mptype=\"image\" src=\"data:image/gif;base64,R0lGODlhAQABAIAAAAAAAP///yH5BAEAAAAALAAAAAABAAEAAAIBRAA7\"/></a></span></td><td class=\"Table__TD\"><div class=\"away flex items-center\"><a class=\"AnchorLink Table__Team\" href=\"/soccer/team/_/id/1936/internacional\" tabindex=\"0\">Internacional</a></div></td><td class=\"Table__TD\"><a class=\"AnchorLink\" href=\"/soccer/match/_/gameId/569627\" tabindex=\"0\">3:00 PM</a></td><td class=\"Table__TD\"><span>Brazilian Serie A</span></td><td class=\"Table__TD\"></td><td class=\"Table__TD\"></td></tr><tr class=\"Table__TR Table__TR--sm Table__even\" data-idx=\"4\"><td class=\"Table__TD\"><div class=\"matchTeams\">Wed, Feb 24</div></td><td class=\"Table__TD\"><div class=\"local flex items-center\"><a class=\"AnchorLink Table__Team\" href=\"/soccer/team/_/id/2026/sao-paulo\" tabindex=\"0\">São Paulo</a></div></td><td class=\"Table__TD\"><span class=\"Table__Team score\"><a class=\"AnchorLink\" href=\"/soccer/team/_/id/2026/sao-paulo\" tabindex=\"0\"><img alt=\"\" class=\"Image Logo Logo__sm\" data-mptype=\"image\" src=\"data:image/gif;base64,R0lGODlhAQABAIAAAAAAAP///yH5BAEAAAAALAAAAAABAAEAAAIBRAA7\"/></a><a class=\"AnchorLink\" href=\"/soccer/match/_/gameId/569613\" tabindex=\"0\">v</a><a class=\"AnchorLink\" href=\"/soccer/team/_/id/819/flamengo\" tabindex=\"0\"><img alt=\"\" class=\"Image Logo Logo__sm\" data-mptype=\"image\" src=\"data:image/gif;base64,R0lGODlhAQABAIAAAAAAAP///yH5BAEAAAAALAAAAAABAAEAAAIBRAA7\"/></a></span></td><td class=\"Table__TD\"><div class=\"away flex items-center\"><a class=\"AnchorLink Table__Team\" href=\"/soccer/team/_/id/819/flamengo\" tabindex=\"0\">Flamengo</a></div></td><td class=\"Table__TD\"><a class=\"AnchorLink\" href=\"/soccer/match/_/gameId/569613\" tabindex=\"0\">3:00 PM</a></td><td class=\"Table__TD\"><span>Brazilian Serie A</span></td><td class=\"Table__TD\"></td><td class=\"Table__TD\"></td></tr></tbody></table>]"
      ]
     },
     "execution_count": 19,
     "metadata": {},
     "output_type": "execute_result"
    }
   ],
   "source": [
    "full_table"
   ]
  },
  {
   "cell_type": "code",
   "execution_count": 20,
   "metadata": {},
   "outputs": [],
   "source": [
    "# copy all rows into a list \n",
    "round_list = []\n",
    "row =  pageSoup.find_all(\"tr\")\n",
    "count = 0\n",
    "for row in full_table:\n",
    "    for td in row.find_all(\"td\"): \n",
    "        # if empty row or 'v' found we ignore it\n",
    "        if (td.text != '') and (td.text != 'v'):\n",
    "            round_list.append(td.text)               "
   ]
  },
  {
   "cell_type": "code",
   "execution_count": 21,
   "metadata": {},
   "outputs": [
    {
     "ename": "ValueError",
     "evalue": "cannot reshape array of size 142 into shape (28,5)",
     "output_type": "error",
     "traceback": [
      "\u001b[1;31m---------------------------------------------------------------------------\u001b[0m",
      "\u001b[1;31mValueError\u001b[0m                                Traceback (most recent call last)",
      "\u001b[1;32m<ipython-input-21-de8da0f358b5>\u001b[0m in \u001b[0;36m<module>\u001b[1;34m\u001b[0m\n\u001b[0;32m      3\u001b[0m \u001b[1;31m# rehape the list in array of 5 elements per round\u001b[0m\u001b[1;33m\u001b[0m\u001b[1;33m\u001b[0m\u001b[1;33m\u001b[0m\u001b[0m\n\u001b[0;32m      4\u001b[0m \u001b[0mn_rounds\u001b[0m \u001b[1;33m=\u001b[0m \u001b[0mint\u001b[0m\u001b[1;33m(\u001b[0m\u001b[0mlen\u001b[0m\u001b[1;33m(\u001b[0m\u001b[0mround_list\u001b[0m\u001b[1;33m)\u001b[0m\u001b[1;33m/\u001b[0m\u001b[1;36m5\u001b[0m\u001b[1;33m)\u001b[0m\u001b[1;33m\u001b[0m\u001b[1;33m\u001b[0m\u001b[0m\n\u001b[1;32m----> 5\u001b[1;33m \u001b[0mround_list_rehape\u001b[0m \u001b[1;33m=\u001b[0m \u001b[0mnp\u001b[0m\u001b[1;33m.\u001b[0m\u001b[0mreshape\u001b[0m\u001b[1;33m(\u001b[0m\u001b[0mround_list\u001b[0m\u001b[1;33m,\u001b[0m \u001b[1;33m(\u001b[0m\u001b[0mn_rounds\u001b[0m\u001b[1;33m,\u001b[0m \u001b[1;36m5\u001b[0m\u001b[1;33m)\u001b[0m\u001b[1;33m)\u001b[0m\u001b[1;33m\u001b[0m\u001b[1;33m\u001b[0m\u001b[0m\n\u001b[0m",
      "\u001b[1;32m<__array_function__ internals>\u001b[0m in \u001b[0;36mreshape\u001b[1;34m(*args, **kwargs)\u001b[0m\n",
      "\u001b[1;32m~\\Anaconda3\\lib\\site-packages\\numpy\\core\\fromnumeric.py\u001b[0m in \u001b[0;36mreshape\u001b[1;34m(a, newshape, order)\u001b[0m\n\u001b[0;32m    299\u001b[0m            [5, 6]])\n\u001b[0;32m    300\u001b[0m     \"\"\"\n\u001b[1;32m--> 301\u001b[1;33m     \u001b[1;32mreturn\u001b[0m \u001b[0m_wrapfunc\u001b[0m\u001b[1;33m(\u001b[0m\u001b[0ma\u001b[0m\u001b[1;33m,\u001b[0m \u001b[1;34m'reshape'\u001b[0m\u001b[1;33m,\u001b[0m \u001b[0mnewshape\u001b[0m\u001b[1;33m,\u001b[0m \u001b[0morder\u001b[0m\u001b[1;33m=\u001b[0m\u001b[0morder\u001b[0m\u001b[1;33m)\u001b[0m\u001b[1;33m\u001b[0m\u001b[1;33m\u001b[0m\u001b[0m\n\u001b[0m\u001b[0;32m    302\u001b[0m \u001b[1;33m\u001b[0m\u001b[0m\n\u001b[0;32m    303\u001b[0m \u001b[1;33m\u001b[0m\u001b[0m\n",
      "\u001b[1;32m~\\Anaconda3\\lib\\site-packages\\numpy\\core\\fromnumeric.py\u001b[0m in \u001b[0;36m_wrapfunc\u001b[1;34m(obj, method, *args, **kwds)\u001b[0m\n\u001b[0;32m     56\u001b[0m     \u001b[0mbound\u001b[0m \u001b[1;33m=\u001b[0m \u001b[0mgetattr\u001b[0m\u001b[1;33m(\u001b[0m\u001b[0mobj\u001b[0m\u001b[1;33m,\u001b[0m \u001b[0mmethod\u001b[0m\u001b[1;33m,\u001b[0m \u001b[1;32mNone\u001b[0m\u001b[1;33m)\u001b[0m\u001b[1;33m\u001b[0m\u001b[1;33m\u001b[0m\u001b[0m\n\u001b[0;32m     57\u001b[0m     \u001b[1;32mif\u001b[0m \u001b[0mbound\u001b[0m \u001b[1;32mis\u001b[0m \u001b[1;32mNone\u001b[0m\u001b[1;33m:\u001b[0m\u001b[1;33m\u001b[0m\u001b[1;33m\u001b[0m\u001b[0m\n\u001b[1;32m---> 58\u001b[1;33m         \u001b[1;32mreturn\u001b[0m \u001b[0m_wrapit\u001b[0m\u001b[1;33m(\u001b[0m\u001b[0mobj\u001b[0m\u001b[1;33m,\u001b[0m \u001b[0mmethod\u001b[0m\u001b[1;33m,\u001b[0m \u001b[1;33m*\u001b[0m\u001b[0margs\u001b[0m\u001b[1;33m,\u001b[0m \u001b[1;33m**\u001b[0m\u001b[0mkwds\u001b[0m\u001b[1;33m)\u001b[0m\u001b[1;33m\u001b[0m\u001b[1;33m\u001b[0m\u001b[0m\n\u001b[0m\u001b[0;32m     59\u001b[0m \u001b[1;33m\u001b[0m\u001b[0m\n\u001b[0;32m     60\u001b[0m     \u001b[1;32mtry\u001b[0m\u001b[1;33m:\u001b[0m\u001b[1;33m\u001b[0m\u001b[1;33m\u001b[0m\u001b[0m\n",
      "\u001b[1;32m~\\Anaconda3\\lib\\site-packages\\numpy\\core\\fromnumeric.py\u001b[0m in \u001b[0;36m_wrapit\u001b[1;34m(obj, method, *args, **kwds)\u001b[0m\n\u001b[0;32m     45\u001b[0m     \u001b[1;32mexcept\u001b[0m \u001b[0mAttributeError\u001b[0m\u001b[1;33m:\u001b[0m\u001b[1;33m\u001b[0m\u001b[1;33m\u001b[0m\u001b[0m\n\u001b[0;32m     46\u001b[0m         \u001b[0mwrap\u001b[0m \u001b[1;33m=\u001b[0m \u001b[1;32mNone\u001b[0m\u001b[1;33m\u001b[0m\u001b[1;33m\u001b[0m\u001b[0m\n\u001b[1;32m---> 47\u001b[1;33m     \u001b[0mresult\u001b[0m \u001b[1;33m=\u001b[0m \u001b[0mgetattr\u001b[0m\u001b[1;33m(\u001b[0m\u001b[0masarray\u001b[0m\u001b[1;33m(\u001b[0m\u001b[0mobj\u001b[0m\u001b[1;33m)\u001b[0m\u001b[1;33m,\u001b[0m \u001b[0mmethod\u001b[0m\u001b[1;33m)\u001b[0m\u001b[1;33m(\u001b[0m\u001b[1;33m*\u001b[0m\u001b[0margs\u001b[0m\u001b[1;33m,\u001b[0m \u001b[1;33m**\u001b[0m\u001b[0mkwds\u001b[0m\u001b[1;33m)\u001b[0m\u001b[1;33m\u001b[0m\u001b[1;33m\u001b[0m\u001b[0m\n\u001b[0m\u001b[0;32m     48\u001b[0m     \u001b[1;32mif\u001b[0m \u001b[0mwrap\u001b[0m\u001b[1;33m:\u001b[0m\u001b[1;33m\u001b[0m\u001b[1;33m\u001b[0m\u001b[0m\n\u001b[0;32m     49\u001b[0m         \u001b[1;32mif\u001b[0m \u001b[1;32mnot\u001b[0m \u001b[0misinstance\u001b[0m\u001b[1;33m(\u001b[0m\u001b[0mresult\u001b[0m\u001b[1;33m,\u001b[0m \u001b[0mmu\u001b[0m\u001b[1;33m.\u001b[0m\u001b[0mndarray\u001b[0m\u001b[1;33m)\u001b[0m\u001b[1;33m:\u001b[0m\u001b[1;33m\u001b[0m\u001b[1;33m\u001b[0m\u001b[0m\n",
      "\u001b[1;31mValueError\u001b[0m: cannot reshape array of size 142 into shape (28,5)"
     ]
    }
   ],
   "source": [
    "import numpy as np\n",
    "\n",
    "# rehape the list in array of 5 elements per round\n",
    "n_rounds = int(len(round_list)/5)\n",
    "round_list_rehape = np.reshape(round_list, (n_rounds, 5))"
   ]
  },
  {
   "cell_type": "code",
   "execution_count": 52,
   "metadata": {},
   "outputs": [],
   "source": [
    "df_rounds = pd.DataFrame(data=round_list_rehape,columns=['date', 'home', 'away', 'time', 'competition'])"
   ]
  },
  {
   "cell_type": "code",
   "execution_count": 42,
   "metadata": {},
   "outputs": [],
   "source": [
    "# Upper case 'Flamengo' --> 'FLAMENGO' :-)\n",
    "df_rounds['home'] = df_rounds['home'].str.replace('Flamengo' ,'FLAMENGO')\n",
    "df_rounds['away'] = df_rounds['away'].str.replace('Flamengo' ,'FLAMENGO')"
   ]
  },
  {
   "cell_type": "code",
   "execution_count": 43,
   "metadata": {},
   "outputs": [],
   "source": [
    "#gets both columns 'date' & 'time' and returnes formated dt object\n",
    "def format_time(date, time):\n",
    "    import locale\n",
    "    import datetime\n",
    "    # converts date & time to one datename object\n",
    "    dt_format = datetime.datetime.strptime(date + ' ' + time, '%a, %b %d %I:%M %p')\n",
    "    #dt_format = dt_format.replace(year=2020)\n",
    "    #dt_format = dt_format + timedelta(hours=12)\n",
    "    \n",
    "    return dt_format"
   ]
  },
  {
   "cell_type": "code",
   "execution_count": 44,
   "metadata": {},
   "outputs": [
    {
     "ename": "ValueError",
     "evalue": "Cannot set a frame with no defined index and a value that cannot be converted to a Series",
     "output_type": "error",
     "traceback": [
      "\u001b[1;31m---------------------------------------------------------------------------\u001b[0m",
      "\u001b[1;31mValueError\u001b[0m                                Traceback (most recent call last)",
      "\u001b[1;32mC:\\Anaconda3\\lib\\site-packages\\pandas\\core\\frame.py\u001b[0m in \u001b[0;36m_ensure_valid_index\u001b[1;34m(self, value)\u001b[0m\n\u001b[0;32m   3519\u001b[0m             \u001b[1;32mtry\u001b[0m\u001b[1;33m:\u001b[0m\u001b[1;33m\u001b[0m\u001b[1;33m\u001b[0m\u001b[0m\n\u001b[1;32m-> 3520\u001b[1;33m                 \u001b[0mvalue\u001b[0m \u001b[1;33m=\u001b[0m \u001b[0mSeries\u001b[0m\u001b[1;33m(\u001b[0m\u001b[0mvalue\u001b[0m\u001b[1;33m)\u001b[0m\u001b[1;33m\u001b[0m\u001b[1;33m\u001b[0m\u001b[0m\n\u001b[0m\u001b[0;32m   3521\u001b[0m             \u001b[1;32mexcept\u001b[0m \u001b[1;33m(\u001b[0m\u001b[0mValueError\u001b[0m\u001b[1;33m,\u001b[0m \u001b[0mNotImplementedError\u001b[0m\u001b[1;33m,\u001b[0m \u001b[0mTypeError\u001b[0m\u001b[1;33m)\u001b[0m\u001b[1;33m:\u001b[0m\u001b[1;33m\u001b[0m\u001b[1;33m\u001b[0m\u001b[0m\n",
      "\u001b[1;32mC:\\Anaconda3\\lib\\site-packages\\pandas\\core\\series.py\u001b[0m in \u001b[0;36m__init__\u001b[1;34m(self, data, index, dtype, name, copy, fastpath)\u001b[0m\n\u001b[0;32m    312\u001b[0m \u001b[1;33m\u001b[0m\u001b[0m\n\u001b[1;32m--> 313\u001b[1;33m                 \u001b[0mdata\u001b[0m \u001b[1;33m=\u001b[0m \u001b[0mSingleBlockManager\u001b[0m\u001b[1;33m(\u001b[0m\u001b[0mdata\u001b[0m\u001b[1;33m,\u001b[0m \u001b[0mindex\u001b[0m\u001b[1;33m,\u001b[0m \u001b[0mfastpath\u001b[0m\u001b[1;33m=\u001b[0m\u001b[1;32mTrue\u001b[0m\u001b[1;33m)\u001b[0m\u001b[1;33m\u001b[0m\u001b[1;33m\u001b[0m\u001b[0m\n\u001b[0m\u001b[0;32m    314\u001b[0m \u001b[1;33m\u001b[0m\u001b[0m\n",
      "\u001b[1;32mC:\\Anaconda3\\lib\\site-packages\\pandas\\core\\internals\\managers.py\u001b[0m in \u001b[0;36m__init__\u001b[1;34m(self, block, axis, do_integrity_check, fastpath)\u001b[0m\n\u001b[0;32m   1514\u001b[0m         \u001b[1;32mif\u001b[0m \u001b[1;32mnot\u001b[0m \u001b[0misinstance\u001b[0m\u001b[1;33m(\u001b[0m\u001b[0mblock\u001b[0m\u001b[1;33m,\u001b[0m \u001b[0mBlock\u001b[0m\u001b[1;33m)\u001b[0m\u001b[1;33m:\u001b[0m\u001b[1;33m\u001b[0m\u001b[1;33m\u001b[0m\u001b[0m\n\u001b[1;32m-> 1515\u001b[1;33m             \u001b[0mblock\u001b[0m \u001b[1;33m=\u001b[0m \u001b[0mmake_block\u001b[0m\u001b[1;33m(\u001b[0m\u001b[0mblock\u001b[0m\u001b[1;33m,\u001b[0m \u001b[0mplacement\u001b[0m\u001b[1;33m=\u001b[0m\u001b[0mslice\u001b[0m\u001b[1;33m(\u001b[0m\u001b[1;36m0\u001b[0m\u001b[1;33m,\u001b[0m \u001b[0mlen\u001b[0m\u001b[1;33m(\u001b[0m\u001b[0maxis\u001b[0m\u001b[1;33m)\u001b[0m\u001b[1;33m)\u001b[0m\u001b[1;33m,\u001b[0m \u001b[0mndim\u001b[0m\u001b[1;33m=\u001b[0m\u001b[1;36m1\u001b[0m\u001b[1;33m)\u001b[0m\u001b[1;33m\u001b[0m\u001b[1;33m\u001b[0m\u001b[0m\n\u001b[0m\u001b[0;32m   1516\u001b[0m \u001b[1;33m\u001b[0m\u001b[0m\n",
      "\u001b[1;32mC:\\Anaconda3\\lib\\site-packages\\pandas\\core\\internals\\blocks.py\u001b[0m in \u001b[0;36mmake_block\u001b[1;34m(values, placement, klass, ndim, dtype, fastpath)\u001b[0m\n\u001b[0;32m   3264\u001b[0m \u001b[1;33m\u001b[0m\u001b[0m\n\u001b[1;32m-> 3265\u001b[1;33m     \u001b[1;32mreturn\u001b[0m \u001b[0mklass\u001b[0m\u001b[1;33m(\u001b[0m\u001b[0mvalues\u001b[0m\u001b[1;33m,\u001b[0m \u001b[0mndim\u001b[0m\u001b[1;33m=\u001b[0m\u001b[0mndim\u001b[0m\u001b[1;33m,\u001b[0m \u001b[0mplacement\u001b[0m\u001b[1;33m=\u001b[0m\u001b[0mplacement\u001b[0m\u001b[1;33m)\u001b[0m\u001b[1;33m\u001b[0m\u001b[1;33m\u001b[0m\u001b[0m\n\u001b[0m\u001b[0;32m   3266\u001b[0m \u001b[1;33m\u001b[0m\u001b[0m\n",
      "\u001b[1;32mC:\\Anaconda3\\lib\\site-packages\\pandas\\core\\internals\\blocks.py\u001b[0m in \u001b[0;36m__init__\u001b[1;34m(self, values, placement, ndim)\u001b[0m\n\u001b[0;32m   2772\u001b[0m \u001b[1;33m\u001b[0m\u001b[0m\n\u001b[1;32m-> 2773\u001b[1;33m         \u001b[0msuper\u001b[0m\u001b[1;33m(\u001b[0m\u001b[1;33m)\u001b[0m\u001b[1;33m.\u001b[0m\u001b[0m__init__\u001b[0m\u001b[1;33m(\u001b[0m\u001b[0mvalues\u001b[0m\u001b[1;33m,\u001b[0m \u001b[0mndim\u001b[0m\u001b[1;33m=\u001b[0m\u001b[0mndim\u001b[0m\u001b[1;33m,\u001b[0m \u001b[0mplacement\u001b[0m\u001b[1;33m=\u001b[0m\u001b[0mplacement\u001b[0m\u001b[1;33m)\u001b[0m\u001b[1;33m\u001b[0m\u001b[1;33m\u001b[0m\u001b[0m\n\u001b[0m\u001b[0;32m   2774\u001b[0m \u001b[1;33m\u001b[0m\u001b[0m\n",
      "\u001b[1;32mC:\\Anaconda3\\lib\\site-packages\\pandas\\core\\internals\\blocks.py\u001b[0m in \u001b[0;36m__init__\u001b[1;34m(self, values, placement, ndim)\u001b[0m\n\u001b[0;32m    127\u001b[0m                 \u001b[1;34m\"Wrong number of items passed {val}, placement implies \"\u001b[0m\u001b[1;33m\u001b[0m\u001b[1;33m\u001b[0m\u001b[0m\n\u001b[1;32m--> 128\u001b[1;33m                 \u001b[1;34m\"{mgr}\"\u001b[0m\u001b[1;33m.\u001b[0m\u001b[0mformat\u001b[0m\u001b[1;33m(\u001b[0m\u001b[0mval\u001b[0m\u001b[1;33m=\u001b[0m\u001b[0mlen\u001b[0m\u001b[1;33m(\u001b[0m\u001b[0mself\u001b[0m\u001b[1;33m.\u001b[0m\u001b[0mvalues\u001b[0m\u001b[1;33m)\u001b[0m\u001b[1;33m,\u001b[0m \u001b[0mmgr\u001b[0m\u001b[1;33m=\u001b[0m\u001b[0mlen\u001b[0m\u001b[1;33m(\u001b[0m\u001b[0mself\u001b[0m\u001b[1;33m.\u001b[0m\u001b[0mmgr_locs\u001b[0m\u001b[1;33m)\u001b[0m\u001b[1;33m)\u001b[0m\u001b[1;33m\u001b[0m\u001b[1;33m\u001b[0m\u001b[0m\n\u001b[0m\u001b[0;32m    129\u001b[0m             )\n",
      "\u001b[1;31mValueError\u001b[0m: Wrong number of items passed 5, placement implies 0",
      "\nDuring handling of the above exception, another exception occurred:\n",
      "\u001b[1;31mValueError\u001b[0m                                Traceback (most recent call last)",
      "\u001b[1;32m<ipython-input-44-159dd0448685>\u001b[0m in \u001b[0;36m<module>\u001b[1;34m\u001b[0m\n\u001b[0;32m      1\u001b[0m \u001b[1;31m# create new column for combined date_time\u001b[0m\u001b[1;33m\u001b[0m\u001b[1;33m\u001b[0m\u001b[1;33m\u001b[0m\u001b[0m\n\u001b[1;32m----> 2\u001b[1;33m \u001b[0mdf_rounds\u001b[0m\u001b[1;33m[\u001b[0m\u001b[1;34m'date_time'\u001b[0m\u001b[1;33m]\u001b[0m \u001b[1;33m=\u001b[0m \u001b[0mdf_rounds\u001b[0m\u001b[1;33m.\u001b[0m\u001b[0mapply\u001b[0m\u001b[1;33m(\u001b[0m\u001b[1;32mlambda\u001b[0m \u001b[0mrow\u001b[0m\u001b[1;33m:\u001b[0m \u001b[0mformat_time\u001b[0m\u001b[1;33m(\u001b[0m\u001b[0mrow\u001b[0m\u001b[1;33m[\u001b[0m\u001b[1;34m'date'\u001b[0m\u001b[1;33m]\u001b[0m\u001b[1;33m,\u001b[0m \u001b[0mrow\u001b[0m\u001b[1;33m[\u001b[0m\u001b[1;34m'time'\u001b[0m\u001b[1;33m]\u001b[0m\u001b[1;33m)\u001b[0m\u001b[1;33m,\u001b[0m \u001b[0maxis\u001b[0m\u001b[1;33m=\u001b[0m\u001b[1;36m1\u001b[0m\u001b[1;33m)\u001b[0m\u001b[1;33m\u001b[0m\u001b[1;33m\u001b[0m\u001b[0m\n\u001b[0m",
      "\u001b[1;32mC:\\Anaconda3\\lib\\site-packages\\pandas\\core\\frame.py\u001b[0m in \u001b[0;36m__setitem__\u001b[1;34m(self, key, value)\u001b[0m\n\u001b[0;32m   3465\u001b[0m         \u001b[1;32melse\u001b[0m\u001b[1;33m:\u001b[0m\u001b[1;33m\u001b[0m\u001b[1;33m\u001b[0m\u001b[0m\n\u001b[0;32m   3466\u001b[0m             \u001b[1;31m# set column\u001b[0m\u001b[1;33m\u001b[0m\u001b[1;33m\u001b[0m\u001b[1;33m\u001b[0m\u001b[0m\n\u001b[1;32m-> 3467\u001b[1;33m             \u001b[0mself\u001b[0m\u001b[1;33m.\u001b[0m\u001b[0m_set_item\u001b[0m\u001b[1;33m(\u001b[0m\u001b[0mkey\u001b[0m\u001b[1;33m,\u001b[0m \u001b[0mvalue\u001b[0m\u001b[1;33m)\u001b[0m\u001b[1;33m\u001b[0m\u001b[1;33m\u001b[0m\u001b[0m\n\u001b[0m\u001b[0;32m   3468\u001b[0m \u001b[1;33m\u001b[0m\u001b[0m\n\u001b[0;32m   3469\u001b[0m     \u001b[1;32mdef\u001b[0m \u001b[0m_setitem_slice\u001b[0m\u001b[1;33m(\u001b[0m\u001b[0mself\u001b[0m\u001b[1;33m,\u001b[0m \u001b[0mkey\u001b[0m\u001b[1;33m,\u001b[0m \u001b[0mvalue\u001b[0m\u001b[1;33m)\u001b[0m\u001b[1;33m:\u001b[0m\u001b[1;33m\u001b[0m\u001b[1;33m\u001b[0m\u001b[0m\n",
      "\u001b[1;32mC:\\Anaconda3\\lib\\site-packages\\pandas\\core\\frame.py\u001b[0m in \u001b[0;36m_set_item\u001b[1;34m(self, key, value)\u001b[0m\n\u001b[0;32m   3541\u001b[0m         \"\"\"\n\u001b[0;32m   3542\u001b[0m \u001b[1;33m\u001b[0m\u001b[0m\n\u001b[1;32m-> 3543\u001b[1;33m         \u001b[0mself\u001b[0m\u001b[1;33m.\u001b[0m\u001b[0m_ensure_valid_index\u001b[0m\u001b[1;33m(\u001b[0m\u001b[0mvalue\u001b[0m\u001b[1;33m)\u001b[0m\u001b[1;33m\u001b[0m\u001b[1;33m\u001b[0m\u001b[0m\n\u001b[0m\u001b[0;32m   3544\u001b[0m         \u001b[0mvalue\u001b[0m \u001b[1;33m=\u001b[0m \u001b[0mself\u001b[0m\u001b[1;33m.\u001b[0m\u001b[0m_sanitize_column\u001b[0m\u001b[1;33m(\u001b[0m\u001b[0mkey\u001b[0m\u001b[1;33m,\u001b[0m \u001b[0mvalue\u001b[0m\u001b[1;33m)\u001b[0m\u001b[1;33m\u001b[0m\u001b[1;33m\u001b[0m\u001b[0m\n\u001b[0;32m   3545\u001b[0m         \u001b[0mNDFrame\u001b[0m\u001b[1;33m.\u001b[0m\u001b[0m_set_item\u001b[0m\u001b[1;33m(\u001b[0m\u001b[0mself\u001b[0m\u001b[1;33m,\u001b[0m \u001b[0mkey\u001b[0m\u001b[1;33m,\u001b[0m \u001b[0mvalue\u001b[0m\u001b[1;33m)\u001b[0m\u001b[1;33m\u001b[0m\u001b[1;33m\u001b[0m\u001b[0m\n",
      "\u001b[1;32mC:\\Anaconda3\\lib\\site-packages\\pandas\\core\\frame.py\u001b[0m in \u001b[0;36m_ensure_valid_index\u001b[1;34m(self, value)\u001b[0m\n\u001b[0;32m   3521\u001b[0m             \u001b[1;32mexcept\u001b[0m \u001b[1;33m(\u001b[0m\u001b[0mValueError\u001b[0m\u001b[1;33m,\u001b[0m \u001b[0mNotImplementedError\u001b[0m\u001b[1;33m,\u001b[0m \u001b[0mTypeError\u001b[0m\u001b[1;33m)\u001b[0m\u001b[1;33m:\u001b[0m\u001b[1;33m\u001b[0m\u001b[1;33m\u001b[0m\u001b[0m\n\u001b[0;32m   3522\u001b[0m                 raise ValueError(\n\u001b[1;32m-> 3523\u001b[1;33m                     \u001b[1;34m\"Cannot set a frame with no defined index \"\u001b[0m\u001b[1;33m\u001b[0m\u001b[1;33m\u001b[0m\u001b[0m\n\u001b[0m\u001b[0;32m   3524\u001b[0m                     \u001b[1;34m\"and a value that cannot be converted to a \"\u001b[0m\u001b[1;33m\u001b[0m\u001b[1;33m\u001b[0m\u001b[0m\n\u001b[0;32m   3525\u001b[0m                     \u001b[1;34m\"Series\"\u001b[0m\u001b[1;33m\u001b[0m\u001b[1;33m\u001b[0m\u001b[0m\n",
      "\u001b[1;31mValueError\u001b[0m: Cannot set a frame with no defined index and a value that cannot be converted to a Series"
     ]
    }
   ],
   "source": [
    "# create new column for combined date_time\n",
    "df_rounds['date_time'] = df_rounds.apply(lambda row: format_time(row['date'], row['time']), axis=1)"
   ]
  },
  {
   "cell_type": "code",
   "execution_count": null,
   "metadata": {},
   "outputs": [],
   "source": [
    "df_rounds"
   ]
  },
  {
   "cell_type": "markdown",
   "metadata": {},
   "source": [
    "# Tests - iCal & Flask"
   ]
  },
  {
   "cell_type": "code",
   "execution_count": 3,
   "metadata": {},
   "outputs": [
    {
     "ename": "ModuleNotFoundError",
     "evalue": "No module named 'icalendar'",
     "output_type": "error",
     "traceback": [
      "\u001b[1;31m---------------------------------------------------------------------------\u001b[0m",
      "\u001b[1;31mModuleNotFoundError\u001b[0m                       Traceback (most recent call last)",
      "\u001b[1;32m<ipython-input-3-60864eabff1f>\u001b[0m in \u001b[0;36m<module>\u001b[1;34m\u001b[0m\n\u001b[1;32m----> 1\u001b[1;33m \u001b[1;32mfrom\u001b[0m \u001b[0micalendar\u001b[0m \u001b[1;32mimport\u001b[0m \u001b[0mCalendar\u001b[0m\u001b[1;33m,\u001b[0m \u001b[0mEvent\u001b[0m\u001b[1;33m\u001b[0m\u001b[1;33m\u001b[0m\u001b[0m\n\u001b[0m\u001b[0;32m      2\u001b[0m \u001b[1;32mimport\u001b[0m \u001b[0mdatetime\u001b[0m\u001b[1;33m\u001b[0m\u001b[1;33m\u001b[0m\u001b[0m\n",
      "\u001b[1;31mModuleNotFoundError\u001b[0m: No module named 'icalendar'"
     ]
    }
   ],
   "source": [
    "from icalendar import Calendar, Event\n",
    "import datetime"
   ]
  },
  {
   "cell_type": "code",
   "execution_count": 4,
   "metadata": {},
   "outputs": [
    {
     "ename": "NameError",
     "evalue": "name 'Calendar' is not defined",
     "output_type": "error",
     "traceback": [
      "\u001b[1;31m---------------------------------------------------------------------------\u001b[0m",
      "\u001b[1;31mNameError\u001b[0m                                 Traceback (most recent call last)",
      "\u001b[1;32m<ipython-input-4-8a194e1b2d63>\u001b[0m in \u001b[0;36m<module>\u001b[1;34m\u001b[0m\n\u001b[1;32m----> 1\u001b[1;33m \u001b[0mcal\u001b[0m \u001b[1;33m=\u001b[0m \u001b[0mCalendar\u001b[0m\u001b[1;33m(\u001b[0m\u001b[1;33m)\u001b[0m\u001b[1;33m\u001b[0m\u001b[1;33m\u001b[0m\u001b[0m\n\u001b[0m\u001b[0;32m      2\u001b[0m \u001b[1;33m\u001b[0m\u001b[0m\n\u001b[0;32m      3\u001b[0m \u001b[0mcal\u001b[0m\u001b[1;33m.\u001b[0m\u001b[0madd\u001b[0m\u001b[1;33m(\u001b[0m\u001b[1;34m'prodid'\u001b[0m\u001b[1;33m,\u001b[0m \u001b[1;34m'-//My calendar product//mxm.dk//'\u001b[0m\u001b[1;33m)\u001b[0m\u001b[1;33m\u001b[0m\u001b[1;33m\u001b[0m\u001b[0m\n\u001b[0;32m      4\u001b[0m \u001b[0mcal\u001b[0m\u001b[1;33m.\u001b[0m\u001b[0madd\u001b[0m\u001b[1;33m(\u001b[0m\u001b[1;34m'version'\u001b[0m\u001b[1;33m,\u001b[0m \u001b[1;34m'2.0'\u001b[0m\u001b[1;33m)\u001b[0m\u001b[1;33m\u001b[0m\u001b[1;33m\u001b[0m\u001b[0m\n",
      "\u001b[1;31mNameError\u001b[0m: name 'Calendar' is not defined"
     ]
    }
   ],
   "source": [
    "cal = Calendar()\n",
    "\n",
    "cal.add('prodid', '-//My calendar product//mxm.dk//')\n",
    "cal.add('version', '2.0')"
   ]
  },
  {
   "cell_type": "code",
   "execution_count": null,
   "metadata": {},
   "outputs": [],
   "source": [
    "for i in df_rounds.index:\n",
    "    event = Event()\n",
    "    event.add('summary', df_rounds['home'][i] + ' x ' + df_rounds['away'][i])\n",
    "    event.add('location', df_rounds['competition'][i])\n",
    "    # +4 for CET time + 12 PM\n",
    "    event.add('dtstart', df_rounds['date_time'][i] + datetime.timedelta(hours=16))\n",
    "    # +6 = +4 (CET time) +2 (game lentgh) + 12 PM\n",
    "    event.add('dtend', df_rounds['date_time'][i] + datetime.timedelta(hours=18))\n",
    "    # write evento to calendar element\n",
    "    cal.add_component(event)\n"
   ]
  },
  {
   "cell_type": "code",
   "execution_count": null,
   "metadata": {},
   "outputs": [],
   "source": [
    "#write to ical file\n",
    "#f = open('ovo.ics', 'wb')\n",
    "#f.write(cal.to_ical())\n",
    "#f.close()"
   ]
  },
  {
   "cell_type": "code",
   "execution_count": null,
   "metadata": {},
   "outputs": [],
   "source": [
    "from flask import Flask\n",
    "\n",
    "app = Flask(__name__)\n",
    "\n",
    "@app.route('/')\n",
    "def index():\n",
    "    return cal.to_ical()\n",
    "\n",
    "if __name__ == '__main__':\n",
    "    app.run()"
   ]
  },
  {
   "cell_type": "code",
   "execution_count": 55,
   "metadata": {},
   "outputs": [],
   "source": [
    "#TESTING"
   ]
  },
  {
   "cell_type": "code",
   "execution_count": 12,
   "metadata": {},
   "outputs": [],
   "source": [
    "import datetime\n",
    "date = \n",
    "dt_format = datetime.datetime.strptime(date + ' ' + time, '%a, %b %d %I:%M %p')"
   ]
  },
  {
   "cell_type": "code",
   "execution_count": 13,
   "metadata": {},
   "outputs": [
    {
     "data": {
      "text/plain": [
       "datetime.datetime(1900, 3, 11, 20, 30)"
      ]
     },
     "execution_count": 13,
     "metadata": {},
     "output_type": "execute_result"
    }
   ],
   "source": [
    "dt_format"
   ]
  },
  {
   "cell_type": "code",
   "execution_count": null,
   "metadata": {},
   "outputs": [],
   "source": []
  }
 ],
 "metadata": {
  "kernelspec": {
   "display_name": "Python 3",
   "language": "python",
   "name": "python3"
  },
  "language_info": {
   "codemirror_mode": {
    "name": "ipython",
    "version": 3
   },
   "file_extension": ".py",
   "mimetype": "text/x-python",
   "name": "python",
   "nbconvert_exporter": "python",
   "pygments_lexer": "ipython3",
   "version": "3.8.3"
  }
 },
 "nbformat": 4,
 "nbformat_minor": 2
}
